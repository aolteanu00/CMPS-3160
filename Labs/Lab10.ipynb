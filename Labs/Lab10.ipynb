{
  "cells": [
    {
      "cell_type": "markdown",
      "metadata": {
        "id": "DZAMesDi782f"
      },
      "source": [
        "# Lab 10: Classification\n",
        "\n",
        "This lab is presented with some revisions from [Dennis Sun at Cal Poly](https://web.calpoly.edu/~dsun09/index.html) and his [Data301 Course](http://users.csc.calpoly.edu/~dsun09/data301/lectures.html)\n",
        "\n",
        "### When you have filled out all the questions, submit via [Tulane Canvas](https://tulane.instructure.com/)"
      ]
    },
    {
      "cell_type": "code",
      "execution_count": null,
      "metadata": {
        "id": "_pkSKmJJ782j",
        "colab": {
          "base_uri": "https://localhost:8080/"
        },
        "outputId": "687a6591-c5cb-4d61-a92a-9db059ee561d"
      },
      "outputs": [
        {
          "output_type": "stream",
          "name": "stdout",
          "text": [
            "Drive already mounted at /content/drive; to attempt to forcibly remount, call drive.mount(\"/content/drive\", force_remount=True).\n",
            "/content/drive/My Drive/cmps3160\n",
            "/content/drive/My Drive/cmps3160/_labs/Lab09\n"
          ]
        }
      ],
      "source": [
        "# first, mount your google drive, change to the course folder, pull latest changes, and change to the lab folder.\n",
        "from google.colab import drive\n",
        "drive.mount('/content/drive')\n",
        "%cd /content/drive/My Drive/cmps3160\n",
        "# !git pull\n",
        "%cd _labs/Lab09"
      ]
    },
    {
      "cell_type": "markdown",
      "metadata": {
        "id": "VYVWt6dE782l"
      },
      "source": [
        "_Classification models_ are used when the label we want to predict is categorical. In this section, we will train a classification model to predict the color of a wine (red or white) from its chemical properties.\n",
        "\n",
        "The training data for the red and white wines are stored in separate files on Github (`../data/reds.csv` and `../data/whites.csv`). Let's read in the two datasets, add a column for the color (\"red\" or \"white\"), and combine them into one `DataFrame`."
      ]
    },
    {
      "cell_type": "code",
      "execution_count": null,
      "metadata": {
        "id": "1EOfv9Ts782m",
        "colab": {
          "base_uri": "https://localhost:8080/",
          "height": 235
        },
        "outputId": "e10d9071-4717-4e11-ea90-cd53a6841e1c"
      },
      "outputs": [
        {
          "output_type": "execute_result",
          "data": {
            "text/plain": [
              "      fixed acidity  volatile acidity  citric acid  residual sugar  chlorides  \\\n",
              "0               7.4              0.70         0.00             1.9      0.076   \n",
              "1               7.8              0.88         0.00             2.6      0.098   \n",
              "...             ...               ...          ...             ...        ...   \n",
              "6495            5.5              0.29         0.30             1.1      0.022   \n",
              "6496            6.0              0.21         0.38             0.8      0.020   \n",
              "\n",
              "      free sulfur dioxide  total sulfur dioxide  density    pH  sulphates  \\\n",
              "0                    11.0                  34.0  0.99780  3.51       0.56   \n",
              "1                    25.0                  67.0  0.99680  3.20       0.68   \n",
              "...                   ...                   ...      ...   ...        ...   \n",
              "6495                 20.0                 110.0  0.98869  3.34       0.38   \n",
              "6496                 22.0                  98.0  0.98941  3.26       0.32   \n",
              "\n",
              "      alcohol  quality  color  \n",
              "0         9.4        5    red  \n",
              "1         9.8        5    red  \n",
              "...       ...      ...    ...  \n",
              "6495     12.8        7  white  \n",
              "6496     11.8        6  white  \n",
              "\n",
              "[6497 rows x 13 columns]"
            ],
            "text/html": [
              "\n",
              "  <div id=\"df-0399c685-cdc9-4d09-afe9-d5ea3228efee\">\n",
              "    <div class=\"colab-df-container\">\n",
              "      <div>\n",
              "<style scoped>\n",
              "    .dataframe tbody tr th:only-of-type {\n",
              "        vertical-align: middle;\n",
              "    }\n",
              "\n",
              "    .dataframe tbody tr th {\n",
              "        vertical-align: top;\n",
              "    }\n",
              "\n",
              "    .dataframe thead th {\n",
              "        text-align: right;\n",
              "    }\n",
              "</style>\n",
              "<table border=\"1\" class=\"dataframe\">\n",
              "  <thead>\n",
              "    <tr style=\"text-align: right;\">\n",
              "      <th></th>\n",
              "      <th>fixed acidity</th>\n",
              "      <th>volatile acidity</th>\n",
              "      <th>citric acid</th>\n",
              "      <th>residual sugar</th>\n",
              "      <th>chlorides</th>\n",
              "      <th>free sulfur dioxide</th>\n",
              "      <th>total sulfur dioxide</th>\n",
              "      <th>density</th>\n",
              "      <th>pH</th>\n",
              "      <th>sulphates</th>\n",
              "      <th>alcohol</th>\n",
              "      <th>quality</th>\n",
              "      <th>color</th>\n",
              "    </tr>\n",
              "  </thead>\n",
              "  <tbody>\n",
              "    <tr>\n",
              "      <th>0</th>\n",
              "      <td>7.4</td>\n",
              "      <td>0.70</td>\n",
              "      <td>0.00</td>\n",
              "      <td>1.9</td>\n",
              "      <td>0.076</td>\n",
              "      <td>11.0</td>\n",
              "      <td>34.0</td>\n",
              "      <td>0.99780</td>\n",
              "      <td>3.51</td>\n",
              "      <td>0.56</td>\n",
              "      <td>9.4</td>\n",
              "      <td>5</td>\n",
              "      <td>red</td>\n",
              "    </tr>\n",
              "    <tr>\n",
              "      <th>1</th>\n",
              "      <td>7.8</td>\n",
              "      <td>0.88</td>\n",
              "      <td>0.00</td>\n",
              "      <td>2.6</td>\n",
              "      <td>0.098</td>\n",
              "      <td>25.0</td>\n",
              "      <td>67.0</td>\n",
              "      <td>0.99680</td>\n",
              "      <td>3.20</td>\n",
              "      <td>0.68</td>\n",
              "      <td>9.8</td>\n",
              "      <td>5</td>\n",
              "      <td>red</td>\n",
              "    </tr>\n",
              "    <tr>\n",
              "      <th>...</th>\n",
              "      <td>...</td>\n",
              "      <td>...</td>\n",
              "      <td>...</td>\n",
              "      <td>...</td>\n",
              "      <td>...</td>\n",
              "      <td>...</td>\n",
              "      <td>...</td>\n",
              "      <td>...</td>\n",
              "      <td>...</td>\n",
              "      <td>...</td>\n",
              "      <td>...</td>\n",
              "      <td>...</td>\n",
              "      <td>...</td>\n",
              "    </tr>\n",
              "    <tr>\n",
              "      <th>6495</th>\n",
              "      <td>5.5</td>\n",
              "      <td>0.29</td>\n",
              "      <td>0.30</td>\n",
              "      <td>1.1</td>\n",
              "      <td>0.022</td>\n",
              "      <td>20.0</td>\n",
              "      <td>110.0</td>\n",
              "      <td>0.98869</td>\n",
              "      <td>3.34</td>\n",
              "      <td>0.38</td>\n",
              "      <td>12.8</td>\n",
              "      <td>7</td>\n",
              "      <td>white</td>\n",
              "    </tr>\n",
              "    <tr>\n",
              "      <th>6496</th>\n",
              "      <td>6.0</td>\n",
              "      <td>0.21</td>\n",
              "      <td>0.38</td>\n",
              "      <td>0.8</td>\n",
              "      <td>0.020</td>\n",
              "      <td>22.0</td>\n",
              "      <td>98.0</td>\n",
              "      <td>0.98941</td>\n",
              "      <td>3.26</td>\n",
              "      <td>0.32</td>\n",
              "      <td>11.8</td>\n",
              "      <td>6</td>\n",
              "      <td>white</td>\n",
              "    </tr>\n",
              "  </tbody>\n",
              "</table>\n",
              "<p>6497 rows × 13 columns</p>\n",
              "</div>\n",
              "      <button class=\"colab-df-convert\" onclick=\"convertToInteractive('df-0399c685-cdc9-4d09-afe9-d5ea3228efee')\"\n",
              "              title=\"Convert this dataframe to an interactive table.\"\n",
              "              style=\"display:none;\">\n",
              "        \n",
              "  <svg xmlns=\"http://www.w3.org/2000/svg\" height=\"24px\"viewBox=\"0 0 24 24\"\n",
              "       width=\"24px\">\n",
              "    <path d=\"M0 0h24v24H0V0z\" fill=\"none\"/>\n",
              "    <path d=\"M18.56 5.44l.94 2.06.94-2.06 2.06-.94-2.06-.94-.94-2.06-.94 2.06-2.06.94zm-11 1L8.5 8.5l.94-2.06 2.06-.94-2.06-.94L8.5 2.5l-.94 2.06-2.06.94zm10 10l.94 2.06.94-2.06 2.06-.94-2.06-.94-.94-2.06-.94 2.06-2.06.94z\"/><path d=\"M17.41 7.96l-1.37-1.37c-.4-.4-.92-.59-1.43-.59-.52 0-1.04.2-1.43.59L10.3 9.45l-7.72 7.72c-.78.78-.78 2.05 0 2.83L4 21.41c.39.39.9.59 1.41.59.51 0 1.02-.2 1.41-.59l7.78-7.78 2.81-2.81c.8-.78.8-2.07 0-2.86zM5.41 20L4 18.59l7.72-7.72 1.47 1.35L5.41 20z\"/>\n",
              "  </svg>\n",
              "      </button>\n",
              "      \n",
              "  <style>\n",
              "    .colab-df-container {\n",
              "      display:flex;\n",
              "      flex-wrap:wrap;\n",
              "      gap: 12px;\n",
              "    }\n",
              "\n",
              "    .colab-df-convert {\n",
              "      background-color: #E8F0FE;\n",
              "      border: none;\n",
              "      border-radius: 50%;\n",
              "      cursor: pointer;\n",
              "      display: none;\n",
              "      fill: #1967D2;\n",
              "      height: 32px;\n",
              "      padding: 0 0 0 0;\n",
              "      width: 32px;\n",
              "    }\n",
              "\n",
              "    .colab-df-convert:hover {\n",
              "      background-color: #E2EBFA;\n",
              "      box-shadow: 0px 1px 2px rgba(60, 64, 67, 0.3), 0px 1px 3px 1px rgba(60, 64, 67, 0.15);\n",
              "      fill: #174EA6;\n",
              "    }\n",
              "\n",
              "    [theme=dark] .colab-df-convert {\n",
              "      background-color: #3B4455;\n",
              "      fill: #D2E3FC;\n",
              "    }\n",
              "\n",
              "    [theme=dark] .colab-df-convert:hover {\n",
              "      background-color: #434B5C;\n",
              "      box-shadow: 0px 1px 3px 1px rgba(0, 0, 0, 0.15);\n",
              "      filter: drop-shadow(0px 1px 2px rgba(0, 0, 0, 0.3));\n",
              "      fill: #FFFFFF;\n",
              "    }\n",
              "  </style>\n",
              "\n",
              "      <script>\n",
              "        const buttonEl =\n",
              "          document.querySelector('#df-0399c685-cdc9-4d09-afe9-d5ea3228efee button.colab-df-convert');\n",
              "        buttonEl.style.display =\n",
              "          google.colab.kernel.accessAllowed ? 'block' : 'none';\n",
              "\n",
              "        async function convertToInteractive(key) {\n",
              "          const element = document.querySelector('#df-0399c685-cdc9-4d09-afe9-d5ea3228efee');\n",
              "          const dataTable =\n",
              "            await google.colab.kernel.invokeFunction('convertToInteractive',\n",
              "                                                     [key], {});\n",
              "          if (!dataTable) return;\n",
              "\n",
              "          const docLinkHtml = 'Like what you see? Visit the ' +\n",
              "            '<a target=\"_blank\" href=https://colab.research.google.com/notebooks/data_table.ipynb>data table notebook</a>'\n",
              "            + ' to learn more about interactive tables.';\n",
              "          element.innerHTML = '';\n",
              "          dataTable['output_type'] = 'display_data';\n",
              "          await google.colab.output.renderOutput(dataTable, element);\n",
              "          const docLink = document.createElement('div');\n",
              "          docLink.innerHTML = docLinkHtml;\n",
              "          element.appendChild(docLink);\n",
              "        }\n",
              "      </script>\n",
              "    </div>\n",
              "  </div>\n",
              "  "
            ]
          },
          "metadata": {},
          "execution_count": 367
        }
      ],
      "source": [
        "import numpy as np\n",
        "import pandas as pd\n",
        "pd.options.display.max_rows = 5\n",
        "\n",
        "reds = pd.read_csv(\"../data/reds.csv\", sep=\";\")\n",
        "whites = pd.read_csv(\"../data/whites.csv\", sep=\";\")\n",
        "\n",
        "reds[\"color\"] = \"red\"\n",
        "whites[\"color\"] = \"white\"\n",
        "\n",
        "wines = pd.concat([reds, whites],\n",
        "                  ignore_index=True)\n",
        "wines"
      ]
    },
    {
      "cell_type": "markdown",
      "metadata": {
        "id": "Akqm4E98782m"
      },
      "source": [
        "Let's focus on just two features for now: volatile acidity and total sulfur dioxide. Let's plot the training data, using color to represent the class label."
      ]
    },
    {
      "cell_type": "code",
      "execution_count": null,
      "metadata": {
        "id": "HX-BxS9f782n",
        "colab": {
          "base_uri": "https://localhost:8080/",
          "height": 283
        },
        "outputId": "e35d5e34-ec43-43d9-bf25-600bbdb3d919"
      },
      "outputs": [
        {
          "output_type": "display_data",
          "data": {
            "text/plain": [
              "<Figure size 432x288 with 1 Axes>"
            ],
            "image/png": "[encoded data removed]"
          },
          "metadata": {
            "needs_background": "light"
          }
        }
      ],
      "source": [
        "colors = wines[\"color\"].map({\n",
        "    \"red\": \"darkred\",\n",
        "    \"white\": \"gold\"\n",
        "})\n",
        "\n",
        "wines.plot.scatter(\n",
        "    x=\"volatile acidity\", y=\"total sulfur dioxide\", c=colors,\n",
        "    alpha=.3, xlim=(0, 1.6), ylim=(0, 400)\n",
        ");"
      ]
    },
    {
      "cell_type": "markdown",
      "metadata": {
        "id": "9_5woqdL782n"
      },
      "source": [
        "Now suppose that we have a new wine with volatile acidity .85 and total sulfur dioxide 120, represented by a black circle in the plot below. Is this likely a red wine or a white wine?\n",
        "\n",
        "![](https://github.com/nmattei/cmps3160/blob/master/_labs/images/classification.png?raw=1)\n",
        "\n",
        "It is not hard to guess that this wine is probably red, just by looking at the plot. The reasoning goes like this: most of the wines in the training data that were \"close\" to this wine were red, so it makes sense to predict that this wine is also red. This is precisely the idea behind the $k$-nearest neighbors classifier:\n",
        "\n",
        "1. Calculate the distance between the new point and each point in the training data, using some distance metric on the features.\n",
        "2. Determine the $k$ closest points. Of these $k$ closest points, count up how many of each class label there are.\n",
        "3. The predicted class of the new point is whichever class was most common among the $k$ closest points.\n",
        "\n",
        "The only difference between the $k$-nearest neighbors classifier and the $k$-nearest neighbors regressor from the previous chapter is the last step. Instead of averaging the labels of the $k$ neighbors to obtain our prediction, we count up the number of occurrences of each category among the labels and take the most common one. It makes sense that we have to do something different because the label is now categorical instead of quantitative. **This is yet another example of the general principle that was introduced in Chapter 1: the analysis changes depending on the variable type!**"
      ]
    },
    {
      "cell_type": "markdown",
      "metadata": {
        "id": "pr2ArSO6782o"
      },
      "source": [
        "# Implementing the K-Nearest Neighbors Classifier\n",
        "\n",
        "Let's implement $9$-nearest neighbors for the wine above. First, we extract the training data and scale the features:"
      ]
    },
    {
      "cell_type": "code",
      "execution_count": null,
      "metadata": {
        "id": "W0qFeuO9782p"
      },
      "outputs": [],
      "source": [
        "X_train = wines[[\"volatile acidity\", \"total sulfur dioxide\"]]\n",
        "y_train = wines[\"color\"]\n",
        "\n",
        "X_train_sc = (X_train - X_train.mean()) / X_train.std()"
      ]
    },
    {
      "cell_type": "markdown",
      "metadata": {
        "id": "DntVinlt782q"
      },
      "source": [
        "Then, we create a `Series` for the new wine, being sure to scale it in the exact same way:"
      ]
    },
    {
      "cell_type": "code",
      "execution_count": null,
      "metadata": {
        "id": "ptzyS9mg782q",
        "colab": {
          "base_uri": "https://localhost:8080/"
        },
        "outputId": "c1cc2fa2-4820-4934-e824-d0d1e3774c37"
      },
      "outputs": [
        {
          "output_type": "execute_result",
          "data": {
            "text/plain": [
              "volatile acidity        3.099763\n",
              "total sulfur dioxide    0.075288\n",
              "dtype: float64"
            ]
          },
          "metadata": {},
          "execution_count": 370
        }
      ],
      "source": [
        "x_new = pd.Series(dtype=float)\n",
        "x_new[\"volatile acidity\"] = 0.85\n",
        "x_new[\"total sulfur dioxide\"] = 120\n",
        "\n",
        "x_new_sc = (x_new - X_train.mean()) / X_train.std()\n",
        "x_new_sc"
      ]
    },
    {
      "cell_type": "markdown",
      "metadata": {
        "id": "rN2i3Yga782r"
      },
      "source": [
        "Now we calculate the (Euclidean) distance between this new wine and each wine in the training data, and sort the distances from smallest to largest."
      ]
    },
    {
      "cell_type": "code",
      "execution_count": null,
      "metadata": {
        "id": "xilftyFH782r",
        "colab": {
          "base_uri": "https://localhost:8080/"
        },
        "outputId": "b304e3af-bed0-4bd4-b618-591e0a130da1"
      },
      "outputs": [
        {
          "output_type": "execute_result",
          "data": {
            "text/plain": [
              "782     0.462062\n",
              "6391    0.466075\n",
              "          ...   \n",
              "3726    5.067728\n",
              "6344    6.700407\n",
              "Length: 6497, dtype: float64"
            ]
          },
          "metadata": {},
          "execution_count": 371
        }
      ],
      "source": [
        "dists = np.sqrt(((X_train_sc - x_new_sc) ** 2).sum(axis=1))\n",
        "dists_sorted = dists.sort_values()\n",
        "dists_sorted"
      ]
    },
    {
      "cell_type": "markdown",
      "metadata": {
        "id": "QMCY_Czj782r"
      },
      "source": [
        "The first 9 entries of this sorted list will be the 9 nearest neighbors. Let's get their index."
      ]
    },
    {
      "cell_type": "code",
      "execution_count": null,
      "metadata": {
        "id": "V_50DZ08782r",
        "colab": {
          "base_uri": "https://localhost:8080/"
        },
        "outputId": "bf48e253-8aa3-4c35-ed6f-91b8add9a17a"
      },
      "outputs": [
        {
          "output_type": "execute_result",
          "data": {
            "text/plain": [
              "Int64Index([782, 6391, 889, 4696, 198, 637, 636, 46, 6414], dtype='int64')"
            ]
          },
          "metadata": {},
          "execution_count": 372
        }
      ],
      "source": [
        "inds_nearest = dists_sorted.index[:9]\n",
        "inds_nearest"
      ]
    },
    {
      "cell_type": "markdown",
      "metadata": {
        "id": "g3x9Y756782r"
      },
      "source": [
        "Now we can look up these indices in the original data."
      ]
    },
    {
      "cell_type": "code",
      "execution_count": null,
      "metadata": {
        "id": "AXaEoLpm782s",
        "colab": {
          "base_uri": "https://localhost:8080/",
          "height": 235
        },
        "outputId": "60a15eec-0a36-4f7f-bfe5-d7ce3e4c7d47"
      },
      "outputs": [
        {
          "output_type": "execute_result",
          "data": {
            "text/plain": [
              "      fixed acidity  volatile acidity  citric acid  residual sugar  chlorides  \\\n",
              "782             9.0             0.820         0.05             2.4      0.081   \n",
              "6391            4.7             0.785         0.00             3.4      0.036   \n",
              "...             ...               ...          ...             ...        ...   \n",
              "46              7.7             0.935         0.43             2.2      0.114   \n",
              "6414            6.2             0.760         0.01             3.2      0.041   \n",
              "\n",
              "      free sulfur dioxide  total sulfur dioxide  density    pH  sulphates  \\\n",
              "782                  26.0                  96.0  0.99814  3.36       0.53   \n",
              "6391                 23.0                 134.0  0.98981  3.53       0.92   \n",
              "...                   ...                   ...      ...   ...        ...   \n",
              "46                   22.0                 114.0  0.99700  3.25       0.73   \n",
              "6414                 18.0                 120.0  0.99026  3.20       0.94   \n",
              "\n",
              "      alcohol  quality  color  \n",
              "782      10.0        5    red  \n",
              "6391     13.8        6  white  \n",
              "...       ...      ...    ...  \n",
              "46        9.2        5    red  \n",
              "6414     13.7        7  white  \n",
              "\n",
              "[9 rows x 13 columns]"
            ],
            "text/html": [
              "\n",
              "  <div id=\"df-119a23a5-44c0-4d4b-82ac-2c0290775093\">\n",
              "    <div class=\"colab-df-container\">\n",
              "      <div>\n",
              "<style scoped>\n",
              "    .dataframe tbody tr th:only-of-type {\n",
              "        vertical-align: middle;\n",
              "    }\n",
              "\n",
              "    .dataframe tbody tr th {\n",
              "        vertical-align: top;\n",
              "    }\n",
              "\n",
              "    .dataframe thead th {\n",
              "        text-align: right;\n",
              "    }\n",
              "</style>\n",
              "<table border=\"1\" class=\"dataframe\">\n",
              "  <thead>\n",
              "    <tr style=\"text-align: right;\">\n",
              "      <th></th>\n",
              "      <th>fixed acidity</th>\n",
              "      <th>volatile acidity</th>\n",
              "      <th>citric acid</th>\n",
              "      <th>residual sugar</th>\n",
              "      <th>chlorides</th>\n",
              "      <th>free sulfur dioxide</th>\n",
              "      <th>total sulfur dioxide</th>\n",
              "      <th>density</th>\n",
              "      <th>pH</th>\n",
              "      <th>sulphates</th>\n",
              "      <th>alcohol</th>\n",
              "      <th>quality</th>\n",
              "      <th>color</th>\n",
              "    </tr>\n",
              "  </thead>\n",
              "  <tbody>\n",
              "    <tr>\n",
              "      <th>782</th>\n",
              "      <td>9.0</td>\n",
              "      <td>0.820</td>\n",
              "      <td>0.05</td>\n",
              "      <td>2.4</td>\n",
              "      <td>0.081</td>\n",
              "      <td>26.0</td>\n",
              "      <td>96.0</td>\n",
              "      <td>0.99814</td>\n",
              "      <td>3.36</td>\n",
              "      <td>0.53</td>\n",
              "      <td>10.0</td>\n",
              "      <td>5</td>\n",
              "      <td>red</td>\n",
              "    </tr>\n",
              "    <tr>\n",
              "      <th>6391</th>\n",
              "      <td>4.7</td>\n",
              "      <td>0.785</td>\n",
              "      <td>0.00</td>\n",
              "      <td>3.4</td>\n",
              "      <td>0.036</td>\n",
              "      <td>23.0</td>\n",
              "      <td>134.0</td>\n",
              "      <td>0.98981</td>\n",
              "      <td>3.53</td>\n",
              "      <td>0.92</td>\n",
              "      <td>13.8</td>\n",
              "      <td>6</td>\n",
              "      <td>white</td>\n",
              "    </tr>\n",
              "    <tr>\n",
              "      <th>...</th>\n",
              "      <td>...</td>\n",
              "      <td>...</td>\n",
              "      <td>...</td>\n",
              "      <td>...</td>\n",
              "      <td>...</td>\n",
              "      <td>...</td>\n",
              "      <td>...</td>\n",
              "      <td>...</td>\n",
              "      <td>...</td>\n",
              "      <td>...</td>\n",
              "      <td>...</td>\n",
              "      <td>...</td>\n",
              "      <td>...</td>\n",
              "    </tr>\n",
              "    <tr>\n",
              "      <th>46</th>\n",
              "      <td>7.7</td>\n",
              "      <td>0.935</td>\n",
              "      <td>0.43</td>\n",
              "      <td>2.2</td>\n",
              "      <td>0.114</td>\n",
              "      <td>22.0</td>\n",
              "      <td>114.0</td>\n",
              "      <td>0.99700</td>\n",
              "      <td>3.25</td>\n",
              "      <td>0.73</td>\n",
              "      <td>9.2</td>\n",
              "      <td>5</td>\n",
              "      <td>red</td>\n",
              "    </tr>\n",
              "    <tr>\n",
              "      <th>6414</th>\n",
              "      <td>6.2</td>\n",
              "      <td>0.760</td>\n",
              "      <td>0.01</td>\n",
              "      <td>3.2</td>\n",
              "      <td>0.041</td>\n",
              "      <td>18.0</td>\n",
              "      <td>120.0</td>\n",
              "      <td>0.99026</td>\n",
              "      <td>3.20</td>\n",
              "      <td>0.94</td>\n",
              "      <td>13.7</td>\n",
              "      <td>7</td>\n",
              "      <td>white</td>\n",
              "    </tr>\n",
              "  </tbody>\n",
              "</table>\n",
              "<p>9 rows × 13 columns</p>\n",
              "</div>\n",
              "      <button class=\"colab-df-convert\" onclick=\"convertToInteractive('df-119a23a5-44c0-4d4b-82ac-2c0290775093')\"\n",
              "              title=\"Convert this dataframe to an interactive table.\"\n",
              "              style=\"display:none;\">\n",
              "        \n",
              "  <svg xmlns=\"http://www.w3.org/2000/svg\" height=\"24px\"viewBox=\"0 0 24 24\"\n",
              "       width=\"24px\">\n",
              "    <path d=\"M0 0h24v24H0V0z\" fill=\"none\"/>\n",
              "    <path d=\"M18.56 5.44l.94 2.06.94-2.06 2.06-.94-2.06-.94-.94-2.06-.94 2.06-2.06.94zm-11 1L8.5 8.5l.94-2.06 2.06-.94-2.06-.94L8.5 2.5l-.94 2.06-2.06.94zm10 10l.94 2.06.94-2.06 2.06-.94-2.06-.94-.94-2.06-.94 2.06-2.06.94z\"/><path d=\"M17.41 7.96l-1.37-1.37c-.4-.4-.92-.59-1.43-.59-.52 0-1.04.2-1.43.59L10.3 9.45l-7.72 7.72c-.78.78-.78 2.05 0 2.83L4 21.41c.39.39.9.59 1.41.59.51 0 1.02-.2 1.41-.59l7.78-7.78 2.81-2.81c.8-.78.8-2.07 0-2.86zM5.41 20L4 18.59l7.72-7.72 1.47 1.35L5.41 20z\"/>\n",
              "  </svg>\n",
              "      </button>\n",
              "      \n",
              "  <style>\n",
              "    .colab-df-container {\n",
              "      display:flex;\n",
              "      flex-wrap:wrap;\n",
              "      gap: 12px;\n",
              "    }\n",
              "\n",
              "    .colab-df-convert {\n",
              "      background-color: #E8F0FE;\n",
              "      border: none;\n",
              "      border-radius: 50%;\n",
              "      cursor: pointer;\n",
              "      display: none;\n",
              "      fill: #1967D2;\n",
              "      height: 32px;\n",
              "      padding: 0 0 0 0;\n",
              "      width: 32px;\n",
              "    }\n",
              "\n",
              "    .colab-df-convert:hover {\n",
              "      background-color: #E2EBFA;\n",
              "      box-shadow: 0px 1px 2px rgba(60, 64, 67, 0.3), 0px 1px 3px 1px rgba(60, 64, 67, 0.15);\n",
              "      fill: #174EA6;\n",
              "    }\n",
              "\n",
              "    [theme=dark] .colab-df-convert {\n",
              "      background-color: #3B4455;\n",
              "      fill: #D2E3FC;\n",
              "    }\n",
              "\n",
              "    [theme=dark] .colab-df-convert:hover {\n",
              "      background-color: #434B5C;\n",
              "      box-shadow: 0px 1px 3px 1px rgba(0, 0, 0, 0.15);\n",
              "      filter: drop-shadow(0px 1px 2px rgba(0, 0, 0, 0.3));\n",
              "      fill: #FFFFFF;\n",
              "    }\n",
              "  </style>\n",
              "\n",
              "      <script>\n",
              "        const buttonEl =\n",
              "          document.querySelector('#df-119a23a5-44c0-4d4b-82ac-2c0290775093 button.colab-df-convert');\n",
              "        buttonEl.style.display =\n",
              "          google.colab.kernel.accessAllowed ? 'block' : 'none';\n",
              "\n",
              "        async function convertToInteractive(key) {\n",
              "          const element = document.querySelector('#df-119a23a5-44c0-4d4b-82ac-2c0290775093');\n",
              "          const dataTable =\n",
              "            await google.colab.kernel.invokeFunction('convertToInteractive',\n",
              "                                                     [key], {});\n",
              "          if (!dataTable) return;\n",
              "\n",
              "          const docLinkHtml = 'Like what you see? Visit the ' +\n",
              "            '<a target=\"_blank\" href=https://colab.research.google.com/notebooks/data_table.ipynb>data table notebook</a>'\n",
              "            + ' to learn more about interactive tables.';\n",
              "          element.innerHTML = '';\n",
              "          dataTable['output_type'] = 'display_data';\n",
              "          await google.colab.output.renderOutput(dataTable, element);\n",
              "          const docLink = document.createElement('div');\n",
              "          docLink.innerHTML = docLinkHtml;\n",
              "          element.appendChild(docLink);\n",
              "        }\n",
              "      </script>\n",
              "    </div>\n",
              "  </div>\n",
              "  "
            ]
          },
          "metadata": {},
          "execution_count": 373
        }
      ],
      "source": [
        "wines.loc[inds_nearest]"
      ]
    },
    {
      "cell_type": "markdown",
      "metadata": {
        "id": "_BPCN8TQ782s"
      },
      "source": [
        "As a sanity check, notice that these wines are all similar to the new wine in terms of volatile acidity and total sulfur dioxide. To make a prediction for this new wine, we need to count up how many reds and whites there are among these 9-nearest neighbors."
      ]
    },
    {
      "cell_type": "code",
      "execution_count": null,
      "metadata": {
        "id": "y2gzy0na782s",
        "colab": {
          "base_uri": "https://localhost:8080/"
        },
        "outputId": "73f8ae7a-e496-4311-d8c9-27ddff5cb2e6"
      },
      "outputs": [
        {
          "output_type": "execute_result",
          "data": {
            "text/plain": [
              "red      6\n",
              "white    3\n",
              "Name: color, dtype: int64"
            ]
          },
          "metadata": {},
          "execution_count": 374
        }
      ],
      "source": [
        "wines.loc[inds_nearest, \"color\"].value_counts()"
      ]
    },
    {
      "cell_type": "markdown",
      "metadata": {
        "id": "bv-wsmMg782s"
      },
      "source": [
        "There were more reds than whites, so the 9-nearest neighbors model predicts that the wine is red.\n",
        "\n",
        "As a measure of confidence in a prediction, classification models often report the predicted _probability_ of each label, instead of just the predicted label. The predicted probability of a class in a $k$-nearest neighbors model is simply the proportion of the $k$ neighbors that are in that class. In the example above, instead of simply predicting that the wine is red, we could have instead said that the wine has a $6/9 = .667$ probability of being red."
      ]
    },
    {
      "cell_type": "markdown",
      "metadata": {
        "id": "30nzpkDs782s"
      },
      "source": [
        "# K-Nearest Neighbors Classifier in Scikit-Learn\n",
        "\n",
        "Now let's see how to implement the same $9$-nearest neighbors model above using Scikit-Learn."
      ]
    },
    {
      "cell_type": "code",
      "execution_count": null,
      "metadata": {
        "id": "XaawywqU782t",
        "colab": {
          "base_uri": "https://localhost:8080/"
        },
        "outputId": "45050e53-db93-465e-f6e2-a4bd31cd956c"
      },
      "outputs": [
        {
          "output_type": "execute_result",
          "data": {
            "text/plain": [
              "array(['red'], dtype=object)"
            ]
          },
          "metadata": {},
          "execution_count": 375
        }
      ],
      "source": [
        "from sklearn.preprocessing import StandardScaler\n",
        "from sklearn.neighbors import KNeighborsClassifier\n",
        "\n",
        "# define the training data\n",
        "X_train = wines[[\"volatile acidity\", \"total sulfur dioxide\"]]\n",
        "y_train = wines[\"color\"]\n",
        "\n",
        "# standardize the data\n",
        "scaler = StandardScaler()\n",
        "scaler.fit(X_train)\n",
        "X_train_sc = scaler.transform(X_train)\n",
        "\n",
        "# fit the 9-nearest neighbors model\n",
        "model = KNeighborsClassifier(n_neighbors=9)\n",
        "model.fit(X_train_sc, y_train)\n",
        "\n",
        "# define the test data (Scikit-Learn expects a matrix)\n",
        "x_new = pd.DataFrame()\n",
        "x_new[\"volatile acidity\"] = [0.85]\n",
        "x_new[\"total sulfur dioxide\"] = [120]\n",
        "x_new_sc = scaler.transform(x_new)\n",
        "\n",
        "# use the model to predict on the test data\n",
        "model.predict(x_new_sc)"
      ]
    },
    {
      "cell_type": "markdown",
      "metadata": {
        "id": "qcw9j9FC782t"
      },
      "source": [
        "What if we want the predicted probabilities? For classification models, there is an additional method, `.predict_proba()`, that returns the predicted probability of each class."
      ]
    },
    {
      "cell_type": "code",
      "execution_count": null,
      "metadata": {
        "id": "gzh3mBBs782t",
        "colab": {
          "base_uri": "https://localhost:8080/"
        },
        "outputId": "64ae764e-9a07-4274-b2b3-6e43d6ddc8fa"
      },
      "outputs": [
        {
          "output_type": "execute_result",
          "data": {
            "text/plain": [
              "array([[0.66666667, 0.33333333]])"
            ]
          },
          "metadata": {},
          "execution_count": 376
        }
      ],
      "source": [
        "model.predict_proba(x_new_sc)"
      ]
    },
    {
      "cell_type": "markdown",
      "metadata": {
        "id": "uzifueS-782t"
      },
      "source": [
        "The first number represents the probability of the first class (\"red\") and the second number represents the probability of the second class (\"white\"). Notice that the predicted probabilities add up to 1, as they must."
      ]
    },
    {
      "cell_type": "markdown",
      "metadata": {
        "id": "oc1at1G5782t"
      },
      "source": [
        "# Part 1: Exercises"
      ]
    },
    {
      "cell_type": "markdown",
      "metadata": {
        "id": "cMsdqICv782t"
      },
      "source": [
        "## Exercise 1\n",
        "\n",
        "In the above example, we built a 9-nearest neighbors classifier to predict the color of a wine from just its volatile acidity and total sulfur dioxide. Use the model above to predict the color of a wine with the following features:\n",
        "\n",
        "- fixed acidity: 11\n",
        "- volatile acidity: 0.3\n",
        "- citric acid: 0.3\n",
        "- residual sugar: 2\n",
        "- chlorides: 0.08\n",
        "- free sulfur dioxide: 17\n",
        "- total sulfur dioxide: 60\n",
        "- density: 1.0\n",
        "- pH: 3.2\n",
        "- sulphates: 0.6\n",
        "- alcohol: 9.8\n",
        "- quality: 6\n",
        "\n",
        "Now, build a 15-nearest neighbors classifier using all of the features in the data set. Use this new model to predict the color of the same wine above.\n",
        "\n",
        "Does the predicted label change? Do the predicted probabilities of the labels change?"
      ]
    },
    {
      "cell_type": "code",
      "execution_count": null,
      "metadata": {
        "id": "rpCJEjIR782u",
        "colab": {
          "base_uri": "https://localhost:8080/",
          "height": 92
        },
        "outputId": "99112f13-9772-4d51-baf6-e29cb8342d6d"
      },
      "outputs": [
        {
          "output_type": "display_data",
          "data": {
            "text/plain": [
              "\"9 neighbor prediction: ['red']\""
            ],
            "application/vnd.google.colaboratory.intrinsic+json": {
              "type": "string"
            }
          },
          "metadata": {}
        },
        {
          "output_type": "display_data",
          "data": {
            "text/plain": [
              "'9 neighbor probability: [[1. 0.]]'"
            ],
            "application/vnd.google.colaboratory.intrinsic+json": {
              "type": "string"
            }
          },
          "metadata": {}
        },
        {
          "output_type": "display_data",
          "data": {
            "text/plain": [
              "\"15 neighbor prediction: ['red']\""
            ],
            "application/vnd.google.colaboratory.intrinsic+json": {
              "type": "string"
            }
          },
          "metadata": {}
        },
        {
          "output_type": "display_data",
          "data": {
            "text/plain": [
              "'15 neighbor probability: [[1. 0.]]'"
            ],
            "application/vnd.google.colaboratory.intrinsic+json": {
              "type": "string"
            }
          },
          "metadata": {}
        }
      ],
      "source": [
        "# TYPE YOUR CODE HERE\n",
        "X_train = wines[[\"fixed acidity\", \"volatile acidity\", \"citric acid\", \"residual sugar\", \"chlorides\", \"free sulfur dioxide\", \"total sulfur dioxide\", \"density\", \"pH\", \"sulphates\", \"alcohol\", \"quality\"]]\n",
        "y_train = wines[\"color\"]\n",
        "\n",
        "x_new = pd.DataFrame()\n",
        "x_new[\"fixed acidity\"] = [11]\n",
        "x_new[\"volatile acidity\"] = [0.3]\n",
        "x_new[\"citric acid\"] = [0.3]\n",
        "x_new[\"residual sugar\"] = [2]\n",
        "x_new[\"chlorides\"] = [0.08]\n",
        "x_new[\"free sulfur dioxide\"] = [17]\n",
        "x_new[\"total sulfur dioxide\"] = [60]\n",
        "x_new[\"density\"] = [1.0]\n",
        "x_new[\"pH\"] = [3.2]\n",
        "x_new[\"sulphates\"] = [0.6]\n",
        "x_new[\"alcohol\"] = [9.8]\n",
        "x_new[\"quality\"] = [6]\n",
        "\n",
        "# # fit the 9-nearest neighbors model\n",
        "# model = KNeighborsClassifier(n_neighbors=9)\n",
        "# model.fit(X_train_sc, y_train)\n",
        "# y_train_pred = model.predict(X_train_sc)\n",
        "# y_train_pred\n",
        "# accuracy = (y_train_pred == y_train).mean()\n",
        "# accuracy\n",
        "\n",
        "scaler = StandardScaler()\n",
        "scaler.fit(X_train)\n",
        "X_train_sc = scaler.transform(X_train)\n",
        "x_new_sc = scaler.transform(x_new)\n",
        "\n",
        "model = KNeighborsClassifier(n_neighbors=9)\n",
        "model.fit(X_train_sc, y_train)\n",
        "\n",
        "model2 = KNeighborsClassifier(n_neighbors=15)\n",
        "model2.fit(X_train_sc, y_train)\n",
        "\n",
        "display(\"9 neighbor prediction: %s\" % model.predict(x_new_sc))\n",
        "display(\"9 neighbor probability: %s\" % model.predict_proba(x_new_sc))\n",
        "\n",
        "display(\"15 neighbor prediction: %s\" % model2.predict(x_new_sc))\n",
        "display(\"15 neighbor probability: %s\" % model2.predict_proba(x_new_sc))"
      ]
    },
    {
      "cell_type": "markdown",
      "metadata": {
        "id": "4I0oPNCU782u"
      },
      "source": [
        "**Written Answer Here:**\n",
        "After implementing the model with 9 and 15 neighbors, we see that the results do not vary. The prediction for 9 neighbords yields that the wine will be red. We see this again after running the model with 15 neighbords instead. The probability also remains 1 although this may be a slight computational mistake. I think that the proabability should be less than 1 but should probably not change depending on having 9 or 15 neighbors."
      ]
    },
    {
      "cell_type": "markdown",
      "metadata": {
        "id": "Et2KkqrY782u"
      },
      "source": [
        "# Part 2: Evaluating Classification Models\n",
        "\n",
        "Just as with regression models, we need ways to measure how good a classification model is. With regression models, the main metrics were MSE, RMSE, and MAE. With classification models, the main metrics are accuracy, precision, and recall. All of these metrics can be calculated on either the training data or the test data. We can also use cross validation to estimate the value of the metric on test data.\n",
        "\n",
        "First, let's train a $9$-nearest neighbors model on the wine data, just so that we have a model to evaluate. The following code is copied from above."
      ]
    },
    {
      "cell_type": "code",
      "execution_count": null,
      "metadata": {
        "id": "1EOSSUru782u",
        "colab": {
          "base_uri": "https://localhost:8080/",
          "height": 235
        },
        "outputId": "68dc6f70-4642-4ac5-95fe-10ed29144c5e"
      },
      "outputs": [
        {
          "output_type": "execute_result",
          "data": {
            "text/plain": [
              "      fixed acidity  volatile acidity  citric acid  residual sugar  chlorides  \\\n",
              "0               7.4              0.70         0.00             1.9      0.076   \n",
              "1               7.8              0.88         0.00             2.6      0.098   \n",
              "...             ...               ...          ...             ...        ...   \n",
              "6495            5.5              0.29         0.30             1.1      0.022   \n",
              "6496            6.0              0.21         0.38             0.8      0.020   \n",
              "\n",
              "      free sulfur dioxide  total sulfur dioxide  density    pH  sulphates  \\\n",
              "0                    11.0                  34.0  0.99780  3.51       0.56   \n",
              "1                    25.0                  67.0  0.99680  3.20       0.68   \n",
              "...                   ...                   ...      ...   ...        ...   \n",
              "6495                 20.0                 110.0  0.98869  3.34       0.38   \n",
              "6496                 22.0                  98.0  0.98941  3.26       0.32   \n",
              "\n",
              "      alcohol  quality  color  \n",
              "0         9.4        5    red  \n",
              "1         9.8        5    red  \n",
              "...       ...      ...    ...  \n",
              "6495     12.8        7  white  \n",
              "6496     11.8        6  white  \n",
              "\n",
              "[6497 rows x 13 columns]"
            ],
            "text/html": [
              "\n",
              "  <div id=\"df-9d839b62-0e45-4946-8780-a57f21bd298f\">\n",
              "    <div class=\"colab-df-container\">\n",
              "      <div>\n",
              "<style scoped>\n",
              "    .dataframe tbody tr th:only-of-type {\n",
              "        vertical-align: middle;\n",
              "    }\n",
              "\n",
              "    .dataframe tbody tr th {\n",
              "        vertical-align: top;\n",
              "    }\n",
              "\n",
              "    .dataframe thead th {\n",
              "        text-align: right;\n",
              "    }\n",
              "</style>\n",
              "<table border=\"1\" class=\"dataframe\">\n",
              "  <thead>\n",
              "    <tr style=\"text-align: right;\">\n",
              "      <th></th>\n",
              "      <th>fixed acidity</th>\n",
              "      <th>volatile acidity</th>\n",
              "      <th>citric acid</th>\n",
              "      <th>residual sugar</th>\n",
              "      <th>chlorides</th>\n",
              "      <th>free sulfur dioxide</th>\n",
              "      <th>total sulfur dioxide</th>\n",
              "      <th>density</th>\n",
              "      <th>pH</th>\n",
              "      <th>sulphates</th>\n",
              "      <th>alcohol</th>\n",
              "      <th>quality</th>\n",
              "      <th>color</th>\n",
              "    </tr>\n",
              "  </thead>\n",
              "  <tbody>\n",
              "    <tr>\n",
              "      <th>0</th>\n",
              "      <td>7.4</td>\n",
              "      <td>0.70</td>\n",
              "      <td>0.00</td>\n",
              "      <td>1.9</td>\n",
              "      <td>0.076</td>\n",
              "      <td>11.0</td>\n",
              "      <td>34.0</td>\n",
              "      <td>0.99780</td>\n",
              "      <td>3.51</td>\n",
              "      <td>0.56</td>\n",
              "      <td>9.4</td>\n",
              "      <td>5</td>\n",
              "      <td>red</td>\n",
              "    </tr>\n",
              "    <tr>\n",
              "      <th>1</th>\n",
              "      <td>7.8</td>\n",
              "      <td>0.88</td>\n",
              "      <td>0.00</td>\n",
              "      <td>2.6</td>\n",
              "      <td>0.098</td>\n",
              "      <td>25.0</td>\n",
              "      <td>67.0</td>\n",
              "      <td>0.99680</td>\n",
              "      <td>3.20</td>\n",
              "      <td>0.68</td>\n",
              "      <td>9.8</td>\n",
              "      <td>5</td>\n",
              "      <td>red</td>\n",
              "    </tr>\n",
              "    <tr>\n",
              "      <th>...</th>\n",
              "      <td>...</td>\n",
              "      <td>...</td>\n",
              "      <td>...</td>\n",
              "      <td>...</td>\n",
              "      <td>...</td>\n",
              "      <td>...</td>\n",
              "      <td>...</td>\n",
              "      <td>...</td>\n",
              "      <td>...</td>\n",
              "      <td>...</td>\n",
              "      <td>...</td>\n",
              "      <td>...</td>\n",
              "      <td>...</td>\n",
              "    </tr>\n",
              "    <tr>\n",
              "      <th>6495</th>\n",
              "      <td>5.5</td>\n",
              "      <td>0.29</td>\n",
              "      <td>0.30</td>\n",
              "      <td>1.1</td>\n",
              "      <td>0.022</td>\n",
              "      <td>20.0</td>\n",
              "      <td>110.0</td>\n",
              "      <td>0.98869</td>\n",
              "      <td>3.34</td>\n",
              "      <td>0.38</td>\n",
              "      <td>12.8</td>\n",
              "      <td>7</td>\n",
              "      <td>white</td>\n",
              "    </tr>\n",
              "    <tr>\n",
              "      <th>6496</th>\n",
              "      <td>6.0</td>\n",
              "      <td>0.21</td>\n",
              "      <td>0.38</td>\n",
              "      <td>0.8</td>\n",
              "      <td>0.020</td>\n",
              "      <td>22.0</td>\n",
              "      <td>98.0</td>\n",
              "      <td>0.98941</td>\n",
              "      <td>3.26</td>\n",
              "      <td>0.32</td>\n",
              "      <td>11.8</td>\n",
              "      <td>6</td>\n",
              "      <td>white</td>\n",
              "    </tr>\n",
              "  </tbody>\n",
              "</table>\n",
              "<p>6497 rows × 13 columns</p>\n",
              "</div>\n",
              "      <button class=\"colab-df-convert\" onclick=\"convertToInteractive('df-9d839b62-0e45-4946-8780-a57f21bd298f')\"\n",
              "              title=\"Convert this dataframe to an interactive table.\"\n",
              "              style=\"display:none;\">\n",
              "        \n",
              "  <svg xmlns=\"http://www.w3.org/2000/svg\" height=\"24px\"viewBox=\"0 0 24 24\"\n",
              "       width=\"24px\">\n",
              "    <path d=\"M0 0h24v24H0V0z\" fill=\"none\"/>\n",
              "    <path d=\"M18.56 5.44l.94 2.06.94-2.06 2.06-.94-2.06-.94-.94-2.06-.94 2.06-2.06.94zm-11 1L8.5 8.5l.94-2.06 2.06-.94-2.06-.94L8.5 2.5l-.94 2.06-2.06.94zm10 10l.94 2.06.94-2.06 2.06-.94-2.06-.94-.94-2.06-.94 2.06-2.06.94z\"/><path d=\"M17.41 7.96l-1.37-1.37c-.4-.4-.92-.59-1.43-.59-.52 0-1.04.2-1.43.59L10.3 9.45l-7.72 7.72c-.78.78-.78 2.05 0 2.83L4 21.41c.39.39.9.59 1.41.59.51 0 1.02-.2 1.41-.59l7.78-7.78 2.81-2.81c.8-.78.8-2.07 0-2.86zM5.41 20L4 18.59l7.72-7.72 1.47 1.35L5.41 20z\"/>\n",
              "  </svg>\n",
              "      </button>\n",
              "      \n",
              "  <style>\n",
              "    .colab-df-container {\n",
              "      display:flex;\n",
              "      flex-wrap:wrap;\n",
              "      gap: 12px;\n",
              "    }\n",
              "\n",
              "    .colab-df-convert {\n",
              "      background-color: #E8F0FE;\n",
              "      border: none;\n",
              "      border-radius: 50%;\n",
              "      cursor: pointer;\n",
              "      display: none;\n",
              "      fill: #1967D2;\n",
              "      height: 32px;\n",
              "      padding: 0 0 0 0;\n",
              "      width: 32px;\n",
              "    }\n",
              "\n",
              "    .colab-df-convert:hover {\n",
              "      background-color: #E2EBFA;\n",
              "      box-shadow: 0px 1px 2px rgba(60, 64, 67, 0.3), 0px 1px 3px 1px rgba(60, 64, 67, 0.15);\n",
              "      fill: #174EA6;\n",
              "    }\n",
              "\n",
              "    [theme=dark] .colab-df-convert {\n",
              "      background-color: #3B4455;\n",
              "      fill: #D2E3FC;\n",
              "    }\n",
              "\n",
              "    [theme=dark] .colab-df-convert:hover {\n",
              "      background-color: #434B5C;\n",
              "      box-shadow: 0px 1px 3px 1px rgba(0, 0, 0, 0.15);\n",
              "      filter: drop-shadow(0px 1px 2px rgba(0, 0, 0, 0.3));\n",
              "      fill: #FFFFFF;\n",
              "    }\n",
              "  </style>\n",
              "\n",
              "      <script>\n",
              "        const buttonEl =\n",
              "          document.querySelector('#df-9d839b62-0e45-4946-8780-a57f21bd298f button.colab-df-convert');\n",
              "        buttonEl.style.display =\n",
              "          google.colab.kernel.accessAllowed ? 'block' : 'none';\n",
              "\n",
              "        async function convertToInteractive(key) {\n",
              "          const element = document.querySelector('#df-9d839b62-0e45-4946-8780-a57f21bd298f');\n",
              "          const dataTable =\n",
              "            await google.colab.kernel.invokeFunction('convertToInteractive',\n",
              "                                                     [key], {});\n",
              "          if (!dataTable) return;\n",
              "\n",
              "          const docLinkHtml = 'Like what you see? Visit the ' +\n",
              "            '<a target=\"_blank\" href=https://colab.research.google.com/notebooks/data_table.ipynb>data table notebook</a>'\n",
              "            + ' to learn more about interactive tables.';\n",
              "          element.innerHTML = '';\n",
              "          dataTable['output_type'] = 'display_data';\n",
              "          await google.colab.output.renderOutput(dataTable, element);\n",
              "          const docLink = document.createElement('div');\n",
              "          docLink.innerHTML = docLinkHtml;\n",
              "          element.appendChild(docLink);\n",
              "        }\n",
              "      </script>\n",
              "    </div>\n",
              "  </div>\n",
              "  "
            ]
          },
          "metadata": {},
          "execution_count": 378
        }
      ],
      "source": [
        "%matplotlib inline\n",
        "import numpy as np\n",
        "import pandas as pd\n",
        "pd.options.display.max_rows = 5\n",
        "\n",
        "reds = pd.read_csv(\"../data/reds.csv\", sep=\";\")\n",
        "whites = pd.read_csv(\"../data/whites.csv\", sep=\";\")\n",
        "\n",
        "reds[\"color\"] = \"red\"\n",
        "whites[\"color\"] = \"white\"\n",
        "\n",
        "wines = pd.concat([reds, whites],\n",
        "                  ignore_index=True)\n",
        "wines"
      ]
    },
    {
      "cell_type": "code",
      "execution_count": null,
      "metadata": {
        "id": "YKvj_iLa782v",
        "colab": {
          "base_uri": "https://localhost:8080/"
        },
        "outputId": "b2c66364-975c-4e38-8045-acb8f3268a0f"
      },
      "outputs": [
        {
          "output_type": "execute_result",
          "data": {
            "text/plain": [
              "KNeighborsClassifier(n_neighbors=9)"
            ]
          },
          "metadata": {},
          "execution_count": 379
        }
      ],
      "source": [
        "from sklearn.preprocessing import StandardScaler\n",
        "from sklearn.neighbors import KNeighborsClassifier\n",
        "\n",
        "# define the training data\n",
        "X_train = wines[[\"volatile acidity\", \"total sulfur dioxide\"]]\n",
        "y_train = wines[\"color\"]\n",
        "\n",
        "# standardize the data\n",
        "scaler = StandardScaler()\n",
        "scaler.fit(X_train)\n",
        "X_train_sc = scaler.transform(X_train)\n",
        "\n",
        "# fit the 9-nearest neighbors model\n",
        "model = KNeighborsClassifier(n_neighbors=9)\n",
        "model.fit(X_train_sc, y_train)"
      ]
    },
    {
      "cell_type": "markdown",
      "metadata": {
        "id": "HXunlqIc782v"
      },
      "source": [
        "We will start by calculating training metrics, so we need predictions for the observations in the training data."
      ]
    },
    {
      "cell_type": "code",
      "execution_count": null,
      "metadata": {
        "id": "Q83fQSIl782v",
        "colab": {
          "base_uri": "https://localhost:8080/"
        },
        "outputId": "79af9a51-5076-43a8-cb66-7b243ff379e9"
      },
      "outputs": [
        {
          "output_type": "execute_result",
          "data": {
            "text/plain": [
              "array(['red', 'red', 'red', ..., 'white', 'white', 'white'], dtype=object)"
            ]
          },
          "metadata": {},
          "execution_count": 380
        }
      ],
      "source": [
        "y_train_pred = model.predict(X_train_sc)\n",
        "y_train_pred"
      ]
    },
    {
      "cell_type": "markdown",
      "metadata": {
        "id": "soC_184m782v"
      },
      "source": [
        "# Metrics for Classification\n",
        "\n",
        "Because the labels $y_i$ in a classification model are categorical, we cannot calculate the difference $y_i - \\hat y_i$ between the actual and predicted labels, as we did for regression model. But we can determine if the predicted label $\\hat y_i$ is correct ($\\hat y_i = y_i$) or not ($\\hat y_i \\neq y_i$). For example, the **error rate** is defined to be:\n",
        "\n",
        "$$ \\textrm{error rate} = \\textrm{proportion where } \\hat y_i \\neq y_i $$\n",
        "\n",
        "With classification models, it is more common to report the performance in terms of a score, like **accuracy**, where a higher value is better:\n",
        "\n",
        "$$ \\textrm{accuracy} = \\textrm{proportion where } \\hat y_i = y_i $$"
      ]
    },
    {
      "cell_type": "code",
      "execution_count": null,
      "metadata": {
        "id": "r9Beg9Tl782v",
        "colab": {
          "base_uri": "https://localhost:8080/"
        },
        "outputId": "e734e2a8-b90f-4c12-dee7-51cadf8b7f61"
      },
      "outputs": [
        {
          "output_type": "execute_result",
          "data": {
            "text/plain": [
              "0.9609050330921964"
            ]
          },
          "metadata": {},
          "execution_count": 381
        }
      ],
      "source": [
        "accuracy = (y_train_pred == y_train).mean()\n",
        "accuracy"
      ]
    },
    {
      "cell_type": "markdown",
      "metadata": {
        "id": "A-Exe1nP782v"
      },
      "source": [
        "If you ever forget how to calculate accuracy, you can have Scikit-Learn do it for you. It just needs to know the true labels and the predicted labels:"
      ]
    },
    {
      "cell_type": "code",
      "execution_count": null,
      "metadata": {
        "id": "4y0yKrnM782v",
        "colab": {
          "base_uri": "https://localhost:8080/"
        },
        "outputId": "cfef39a8-4faf-45c4-85fd-f69b6cc582e6"
      },
      "outputs": [
        {
          "output_type": "execute_result",
          "data": {
            "text/plain": [
              "0.9609050330921964"
            ]
          },
          "metadata": {},
          "execution_count": 382
        }
      ],
      "source": [
        "from sklearn.metrics import accuracy_score\n",
        "\n",
        "accuracy_score(y_train, y_train_pred)"
      ]
    },
    {
      "cell_type": "markdown",
      "metadata": {
        "id": "d7fYXCJp782w"
      },
      "source": [
        "The problem with accuracy is that it is sensitive to the initial distribution of classes in the training data. For example, if 99% of the wines in the data set were white, it would be trivial to obtain a model with 99% accuracy: the model could simply predict that every wine is white. Even though such a model has high overall accuracy, it is remarkably bad for red wines. We need some way to measure the \"accuracy\" of a model for a particular class.\n",
        "\n",
        "Suppose we want to know the \"accuracy\" of our model for class $c$. There are two ways to interpret \"accuracy for class $c$\". Do we want to know the accuracy among the observations our model _predicted to be_ in class $c$ or the accuracy among the observations that _actually were_ in class $c$? The two options lead to two different notions of \"accuracy\" for class $c$: precision and recall.\n",
        "\n",
        "The **precision** of a model for class $c$ is the proportion of observations predicted to be in class $c$ that actually were in class $c$.\n",
        "\n",
        "$$ \\textrm{precision for class } c = \\frac{\\# \\{i:  \\hat y_i = c \\textrm{ and } y_i = c\\}}{\\# \\{i: \\hat y_i = c \\}}. $$\n",
        "\n",
        "The **recall** of a model for class $c$ is the proportion of observations actually in class $c$ that were predicted to be in class $c$.\n",
        "\n",
        "$$ \\textrm{recall for class } c = \\frac{\\# \\{i:  \\hat y_i = c \\textrm{ and } y_i = c\\}}{\\# \\{i: y_i = c \\}}. $$\n",
        "\n",
        "Another way to think about precision and recall is in terms of true positives (TP) and false positives (FP). A \"positive\" is an observation that the model identified as belonging to class $c$ (i.e., $\\hat y_i = c$). A true positive is one that actually was in class $c$ (i.e., $\\hat y_i = c$ and $y_i = c$), while a false positive is one that was not (i.e., $\\hat y_i = c$ and $y_i \\neq c$). True and false _negatives_ are defined analogously.\n",
        "\n",
        "In the language of positives and negatives, the precision is the proportion of positives that are true positives:\n",
        "$$ \\textrm{precision for class } c = \\frac{TP}{TP + FP}, $$\n",
        "while the recall is the proportion of observations in class $c$ that are positives (as opposed to negatives):\n",
        "$$ \\textrm{recall for class } c = \\frac{TP}{TP + FN}. $$\n",
        "\n",
        "The diagram below may help you to remember which numbers go in the numerator and denominator. The precision is the proportion of the red rectangle that is a TP, while the recall is the proportion of the red circle that is a TP.\n",
        "\n",
        "![](https://github.com/nmattei/cmps3160/blob/master/_labs/images/precision_recall.png?raw=1)\n",
        "\n",
        "Let's calculate the precision and recall of our $9$-nearest neighbors model for the red \"class\":"
      ]
    },
    {
      "cell_type": "code",
      "execution_count": null,
      "metadata": {
        "id": "iW7z4Fl7782x",
        "colab": {
          "base_uri": "https://localhost:8080/"
        },
        "outputId": "6f29d395-499c-48f5-ece5-271c9d8fd49e"
      },
      "outputs": [
        {
          "output_type": "execute_result",
          "data": {
            "text/plain": [
              "(0.926984126984127, 0.9130706691682301)"
            ]
          },
          "metadata": {},
          "execution_count": 383
        }
      ],
      "source": [
        "true_positives = ((y_train_pred == \"red\") & (y_train == \"red\")).sum()\n",
        "\n",
        "precision = true_positives / (y_train_pred == \"red\").sum()\n",
        "recall = true_positives / (y_train == \"red\").sum()\n",
        "\n",
        "precision, recall"
      ]
    },
    {
      "cell_type": "markdown",
      "metadata": {
        "id": "Pq7fRuuL782x"
      },
      "source": [
        "Again, you can have Scikit-Learn calculate precision and recall for you. These functions work similarly to `accuracy_score` above, except we have to explicitly specify the class for which we want the precision and recall. For example, to calculate the precision and recall of the model for red wines:"
      ]
    },
    {
      "cell_type": "code",
      "execution_count": null,
      "metadata": {
        "id": "E08GpeUO782x",
        "colab": {
          "base_uri": "https://localhost:8080/"
        },
        "outputId": "45cb3a49-5751-4ba3-ecf2-79325261f824"
      },
      "outputs": [
        {
          "output_type": "execute_result",
          "data": {
            "text/plain": [
              "(0.926984126984127, 0.9130706691682301)"
            ]
          },
          "metadata": {},
          "execution_count": 384
        }
      ],
      "source": [
        "from sklearn.metrics import precision_score, recall_score\n",
        "\n",
        "(precision_score(y_train, y_train_pred, pos_label=\"red\"),\n",
        " recall_score(y_train, y_train_pred, pos_label=\"red\"))"
      ]
    },
    {
      "cell_type": "markdown",
      "metadata": {
        "id": "MsZsUe7M782x"
      },
      "source": [
        "It is important to specify `pos_label` because the precision and recall for other classes may be quite different:"
      ]
    },
    {
      "cell_type": "code",
      "execution_count": null,
      "metadata": {
        "id": "3zWGn2mp782x",
        "colab": {
          "base_uri": "https://localhost:8080/"
        },
        "outputId": "eb4e116a-8613-46e8-f271-e8e6bff38319"
      },
      "outputs": [
        {
          "output_type": "execute_result",
          "data": {
            "text/plain": [
              "(0.9717594473791141, 0.9765210289914251)"
            ]
          },
          "metadata": {},
          "execution_count": 385
        }
      ],
      "source": [
        "(precision_score(y_train, y_train_pred, pos_label=\"white\"),\n",
        " recall_score(y_train, y_train_pred, pos_label=\"white\"))"
      ]
    },
    {
      "cell_type": "markdown",
      "metadata": {
        "id": "snl_vE-a782x"
      },
      "source": [
        "In general, there is a tradeoff between precision and recall. For example, you can improve recall by predicting more observations to be in class $c$, but this will hurt precision. To take an extreme example, a model that predicts that _every_ observation is in class $c$ has 100% recall, but its precision would likely be poor. To visualize this phenomenon, suppose we expand the positives from the dashed circle to the solid circle, as shown in the figure below, at right. This increases recall (because the circle now covers more of the red rectangle) but decreases precision (because the red rectangle now makes up a smaller fraction of the circle).\n",
        "\n",
        "![](https://github.com/nmattei/cmps3160/blob/master/_labs/images/precision_recall_tradeoff.png?raw=1)\n",
        "\n",
        "Likewise, you can improve precision by predicting fewer observations to be in class $c$ (i.e., only the ones you are very confident about), but this will hurt recall. This is illustrated in the figure above, at left."
      ]
    },
    {
      "cell_type": "markdown",
      "metadata": {
        "id": "2dgT7Fdv782x"
      },
      "source": [
        "# Validation Accuracy, Precision, and Recall in Scikit-Learn\n",
        "\n",
        "We calculated the training accuracy of our classifier above. However, test accuracy is more useful in most cases. We can estimate the test accuracy using cross validation. We will have Scikit-Learn carry out the cross validation for us, including the computation of the accuracy score on each held-out subsample. We simply have to specify the right `scoring=` method."
      ]
    },
    {
      "cell_type": "code",
      "execution_count": null,
      "metadata": {
        "id": "8iQjDxoc782y",
        "colab": {
          "base_uri": "https://localhost:8080/"
        },
        "outputId": "f1340914-8097-4a0b-ce02-8d101fdd634a"
      },
      "outputs": [
        {
          "output_type": "execute_result",
          "data": {
            "text/plain": [
              "array([0.94      , 0.94615385, 0.94615385, 0.94307692, 0.95692308,\n",
              "       0.96769231, 0.94923077, 0.94453005, 0.96918336, 0.94298921])"
            ]
          },
          "metadata": {},
          "execution_count": 386
        }
      ],
      "source": [
        "from sklearn.pipeline import Pipeline\n",
        "from sklearn.model_selection import cross_val_score\n",
        "\n",
        "pipeline = Pipeline([\n",
        "    (\"scaler\", scaler),\n",
        "    (\"model\", model)\n",
        "])\n",
        "\n",
        "cross_val_score(pipeline, X_train, y_train,\n",
        "                cv=10, scoring=\"accuracy\")"
      ]
    },
    {
      "cell_type": "markdown",
      "metadata": {
        "id": "ZPoP5Z76782y"
      },
      "source": [
        "To obtain a single estimate of test accuracy from the 10 validation accuracies, we can take their average:"
      ]
    },
    {
      "cell_type": "code",
      "execution_count": null,
      "metadata": {
        "id": "KTDr_ukY782y",
        "colab": {
          "base_uri": "https://localhost:8080/"
        },
        "outputId": "2eca2d3f-3ace-4e67-9ac8-035edf3353b7"
      },
      "outputs": [
        {
          "output_type": "execute_result",
          "data": {
            "text/plain": [
              "0.9505933388645254"
            ]
          },
          "metadata": {},
          "execution_count": 387
        }
      ],
      "source": [
        "cross_val_score(pipeline, X_train, y_train,\n",
        "                cv=10, scoring=\"accuracy\").mean()"
      ]
    },
    {
      "cell_type": "markdown",
      "metadata": {
        "id": "Oo1ZjKEh782y"
      },
      "source": [
        "The validation accuracy is still high, but lower than the training accuracy. This makes sense because it is always harder to predict for future data than for current data.\n",
        "\n",
        "Scikit-Learn can also calculate the precision and recall of a class $c$, but we need to manually convert the label to a binary label that is $1$ (or `True`) if the observation is in class $c$ and $0$ (or `False`) otherwise. For example, the following code calculates the validation _recall_ for red wines:"
      ]
    },
    {
      "cell_type": "code",
      "execution_count": null,
      "metadata": {
        "id": "V7zMhyxg782y",
        "colab": {
          "base_uri": "https://localhost:8080/"
        },
        "outputId": "18a32b21-d257-4837-be7c-c8f7e9b7d3c8"
      },
      "outputs": [
        {
          "output_type": "execute_result",
          "data": {
            "text/plain": [
              "0.8849567610062893"
            ]
          },
          "metadata": {},
          "execution_count": 388
        }
      ],
      "source": [
        "is_red_train = (y_train == \"red\")\n",
        "\n",
        "cross_val_score(pipeline, X_train, is_red_train,\n",
        "                cv=10, scoring=\"recall\").mean()"
      ]
    },
    {
      "cell_type": "markdown",
      "metadata": {
        "id": "YPzu7kC8782y"
      },
      "source": [
        "To calculate the validation _precision_ for red wines, we just have to change the scoring method:"
      ]
    },
    {
      "cell_type": "code",
      "execution_count": null,
      "metadata": {
        "id": "aY92tUl3782y",
        "colab": {
          "base_uri": "https://localhost:8080/"
        },
        "outputId": "d619f6cb-4f1e-4657-b2b5-1f885373cc1e"
      },
      "outputs": [
        {
          "output_type": "execute_result",
          "data": {
            "text/plain": [
              "0.9137308357621109"
            ]
          },
          "metadata": {},
          "execution_count": 389
        }
      ],
      "source": [
        "cross_val_score(pipeline, X_train, is_red_train,\n",
        "                cv=10, scoring=\"precision\").mean()"
      ]
    },
    {
      "cell_type": "markdown",
      "metadata": {
        "id": "yEGlsCsG782y"
      },
      "source": [
        "# F1 Score: Combining Precision and Recall\n",
        "\n",
        "We have replaced accuracy by two numbers: precision and recall. We can combine the precision and recall into a single number, called the **F1 score**.\n",
        "\n",
        "The F1 score is defined to be the **harmonic mean** of the precision and the recall. That is,\n",
        "\n",
        "$$ \\frac{1}{\\text{F1 score}} = \\frac{ \\frac{1}{\\text{precision}} + \\frac{1}{\\text{recall}}}{2}, $$\n",
        "\n",
        "or equivalently,\n",
        "\n",
        "$$ \\text{F1 score} = \\frac{2 \\cdot \\text{precision} \\cdot \\text{recall}}{\\text{precision} + \\text{recall}}. $$\n",
        "\n",
        "The harmonic mean of two numbers is always between the two numbers, but in general will be closer to the smaller number. For example, if precision is $90\\%$ and recall is $10\\%$, then the harmonic mean is\n",
        "\n",
        "$$ \\text{F1 score} = \\frac{2 \\cdot 0.9 \\cdot 0.1}{0.9 + 0.1} = 18\\%. $$\n",
        "\n",
        "This is a desirable property of F1 scores because we want to encourage models to have both high precision _and_ high recall. It is not sufficient for one of these to be high if the other is very low. In other words, we do not want to allow a high precision to cancel out a low recall, or vice versa.\n",
        "\n",
        "The F1 score for red wines is:"
      ]
    },
    {
      "cell_type": "code",
      "execution_count": null,
      "metadata": {
        "id": "sC6bGHK77820",
        "colab": {
          "base_uri": "https://localhost:8080/"
        },
        "outputId": "d831b8ed-2d1c-4d22-b141-844efb7e945c"
      },
      "outputs": [
        {
          "output_type": "execute_result",
          "data": {
            "text/plain": [
              "0.91997479521109"
            ]
          },
          "metadata": {},
          "execution_count": 390
        }
      ],
      "source": [
        "2 * precision * recall / (precision + recall)"
      ]
    },
    {
      "cell_type": "markdown",
      "metadata": {
        "id": "J9NbsyWN7820"
      },
      "source": [
        "We could have also asked Scikit-Learn calculate this for us. If we know the actual and predicted labels, we can use the `f1_score` function, which works similarly to `precision_score` and `recall_score` from above:"
      ]
    },
    {
      "cell_type": "code",
      "execution_count": null,
      "metadata": {
        "id": "g9A1tDhc7820",
        "colab": {
          "base_uri": "https://localhost:8080/"
        },
        "outputId": "b3cea92a-cf1a-4858-df00-4767457126d1"
      },
      "outputs": [
        {
          "output_type": "execute_result",
          "data": {
            "text/plain": [
              "0.91997479521109"
            ]
          },
          "metadata": {},
          "execution_count": 391
        }
      ],
      "source": [
        "from sklearn.metrics import f1_score\n",
        "\n",
        "f1_score(y_train, y_train_pred, pos_label=\"red\")"
      ]
    },
    {
      "cell_type": "markdown",
      "metadata": {
        "id": "-bH4ZSCr7821"
      },
      "source": [
        "We can also have `cross_val_score` calculate and return the F1 scores on each held-out subsample:"
      ]
    },
    {
      "cell_type": "code",
      "execution_count": null,
      "metadata": {
        "id": "_9Ol3X827821",
        "colab": {
          "base_uri": "https://localhost:8080/"
        },
        "outputId": "673b8ea0-bfe2-4cb5-cd3f-5feede65d13d"
      },
      "outputs": [
        {
          "output_type": "execute_result",
          "data": {
            "text/plain": [
              "array([0.87043189, 0.88888889, 0.89361702, 0.87707641, 0.90666667,\n",
              "       0.93416928, 0.89589905, 0.88679245, 0.93710692, 0.88888889])"
            ]
          },
          "metadata": {},
          "execution_count": 392
        }
      ],
      "source": [
        "cross_val_score(pipeline, X_train, is_red_train,\n",
        "                cv=10, scoring=\"f1\")"
      ]
    },
    {
      "cell_type": "markdown",
      "metadata": {
        "id": "uzsuvjIk7821"
      },
      "source": [
        "# Part 2: Exercises\n",
        "\n",
        "Exercises 3-5 ask you to use the Titanic data set (`../data/titanic.csv`) to train various classifiers."
      ]
    },
    {
      "cell_type": "markdown",
      "metadata": {
        "id": "tJlnM5Xj7821"
      },
      "source": [
        "## Exercise 3\n",
        "\n",
        "Build a 5-nearest neighbors model to predict whether or not a passenger on a Titanic would survive, based on their age, sex, and class as features. Use the Titanic data set (`../data/titanic.csv`) as your training data. Calculate the _training_ accuracy, precision, and recall of this model for survivors."
      ]
    },
    {
      "cell_type": "code",
      "execution_count": null,
      "metadata": {
        "id": "pPDNzeBy7821",
        "colab": {
          "base_uri": "https://localhost:8080/"
        },
        "outputId": "80bb5cb7-84da-4d82-acac-f56da25f5b97"
      },
      "outputs": [
        {
          "output_type": "stream",
          "name": "stdout",
          "text": [
            "The accuracy of this model is : 0.8413001912045889\n",
            "The precision of this model is : 0.8461538461538461\n",
            "The recall of this model is : 0.747072599531616\n"
          ]
        }
      ],
      "source": [
        "# TYPE YOUR CODE HERE.\n",
        "df_t = pd.read_csv(\"../data/titanic.csv\")\n",
        "df_t.dropna(subset = f, inplace=True)\n",
        "f = [\"age\", \"sex\", \"pclass\"]\n",
        "\n",
        "X_train_dict = df_t[f].to_dict(orient=\"records\")\n",
        "y_train = df_t[\"survived\"]\n",
        "\n",
        "vec = DictVectorizer(sparse=False)\n",
        "vec.fit(X_train_dict)\n",
        "X_train = vec.transform(X_train_dict)\n",
        "\n",
        "scaler = StandardScaler()\n",
        "scaler.fit(X_train)\n",
        "X_train_sc = scaler.transform(X_train)\n",
        "\n",
        "model = KNeighborsClassifier(n_neighbors=5)\n",
        "model.fit(X_train_sc, y_train)\n",
        "\n",
        "# cross_val_score(pipeline, X_train, y_train,\n",
        "#                 cv=10, scoring=\"accuracy\")\n",
        "# cross_val_score(pipeline, X_train, y_train,\n",
        "#                 cv=10, scoring=\"accuracy\").mean()\n",
        "# is_red_train = (y_train == \"red\")\n",
        "# cross_val_score(pipeline, X_train, is_red_train,\n",
        "#                 cv=10, scoring=\"recall\").mean()\n",
        "# cross_val_score(pipeline, X_train, is_red_train, cv=10, scoring=\"precision\").mean()\n",
        "\n",
        "y_train_pred = model.predict(X_train_sc)\n",
        "\n",
        "a = accuracy_score(y_train, y_train_pred)\n",
        "print(\"The accuracy of this model is : \" + str(a))\n",
        "\n",
        "p = precision_score(y_train, y_train_pred)\n",
        "print(\"The precision of this model is : \" + str(p))\n",
        "\n",
        "r = recall_score(y_train, y_train_pred)\n",
        "print(\"The recall of this model is : \" + str(r))"
      ]
    },
    {
      "cell_type": "markdown",
      "metadata": {
        "id": "hsEqtStg7821"
      },
      "source": [
        "## Exercise 4\n",
        "\n",
        "Estimate the _test_ accuracy, precision, and recall of your model for survivors."
      ]
    },
    {
      "cell_type": "code",
      "execution_count": null,
      "metadata": {
        "id": "y3fDlTu17821",
        "colab": {
          "base_uri": "https://localhost:8080/"
        },
        "outputId": "3c4654ae-b81b-4f04-aeba-68946bfad846"
      },
      "outputs": [
        {
          "output_type": "stream",
          "name": "stdout",
          "text": [
            "The accuracy of this model is : 0.765521978021978\n",
            "The precision of this model is : 0.736828008910431\n",
            "The recall of this model is : 0.6740863787375415\n"
          ]
        }
      ],
      "source": [
        "# TYPE YOUR CODE HERE.\n",
        "# pipeline = Pipeline([\n",
        "#     (\"scaler\", scaler),\n",
        "#     (\"model\", model)\n",
        "# ])\n",
        "# cross_val_score(pipeline, X_train, y_train,\n",
        "#                 cv=10, scoring=\"accuracy\")\n",
        "# cross_val_score(pipeline, X_train, y_train,\n",
        "#                 cv=10, scoring=\"accuracy\").mean()\n",
        "# is_red_train = (y_train == \"red\")\n",
        "\n",
        "pipeline = Pipeline([(\"scaler\", scaler), (\"model\", model)])\n",
        "\n",
        "a = cross_val_score(pipeline, X_train, y_train, cv=10, scoring=\"accuracy\")\n",
        "a = a.mean()\n",
        "print(\"The accuracy of this model is : \" + str(a))\n",
        "\n",
        "p = cross_val_score(pipeline, X_train, y_train, cv=10, scoring=\"precision\")\n",
        "p = p.mean()\n",
        "print(\"The precision of this model is : \" + str(p))\n",
        "\n",
        "\n",
        "r = cross_val_score(pipeline, X_train, y_train, cv=10, scoring=\"recall\")\n",
        "r = r.mean()\n",
        "print(\"The recall of this model is : \" + str(r))"
      ]
    },
    {
      "cell_type": "markdown",
      "source": [
        "## Exercise 5\n",
        "\n",
        "Use, use your model to predict whether a 20-year old female in first-class would survive. What about a 20-year old female in third-class?"
      ],
      "metadata": {
        "id": "2fRS1LhoJ4E7"
      }
    },
    {
      "cell_type": "code",
      "source": [
        "# TYPE YOUR CODE HERE.\n",
        "df_t = pd.read_csv(\"../data/titanic.csv\")\n",
        "df_t.dropna(subset = f, inplace=True)\n",
        "\n",
        "f = [\"age\",\"sex\",\"pclass\"]\n",
        "\n",
        "X_train = df_t[f]\n",
        "X_train_dict = df_t[f].to_dict(orient=\"records\")\n",
        "\n",
        "X_new_dict_c1 = [{ \"age\": 20,\n",
        "                  'sex': \"female\",\n",
        "                  'class': 1,}]\n",
        "\n",
        "X_new_dict_c3 = [{ \"age\": 20,\n",
        "                  'sex': \"female\",\n",
        "                  'class': 3,}]\n",
        "\n",
        "y_train = df_t[\"survived\"]\n",
        "\n",
        "# # fit the 9-nearest neighbors model\n",
        "# model = KNeighborsClassifier(n_neighbors=9)\n",
        "# model.fit(X_train_sc, y_train)\n",
        "# y_train_pred = model.predict(X_train_sc)\n",
        "# y_train_pred\n",
        "# accuracy = (y_train_pred == y_train).mean()\n",
        "# accuracy\n",
        "\n",
        "vec = DictVectorizer(sparse=False)\n",
        "vec.fit(X_train_dict)\n",
        "X_train = vec.transform(X_train_dict)\n",
        "\n",
        "X_train = vec.transform(X_train_dict)\n",
        "X_new_c1 = vec.transform(X_new_dict_c1)\n",
        "X_new_c3 = vec.transform(X_new_dict_c3)\n",
        "\n",
        "scaler = StandardScaler()\n",
        "scaler.fit(X_train)\n",
        "\n",
        "X_train_sc = scaler.transform(X_train)\n",
        "X_new_sc_c1 = scaler.transform(X_new_c1)\n",
        "X_new_sc_c3 = scaler.transform(X_new_c3)\n",
        "\n",
        "model = KNeighborsClassifier(n_neighbors=5)\n",
        "model.fit(X_train_sc, y_train)\n",
        "\n",
        "print(\"Prediction for a 20 year old female in class 1: %s. This means that this person is likely to survive.\" % model.predict(X_new_sc_c1))\n",
        "print(\"Prediction for a 20 year old female in class 3: %s. This means that this person is also likely to survive\" % model.predict(X_new_sc_c3))"
      ],
      "metadata": {
        "id": "qM0qqFkEKWOV",
        "colab": {
          "base_uri": "https://localhost:8080/"
        },
        "outputId": "b0586dbd-8c30-4fea-d47f-223df92c2b67"
      },
      "execution_count": null,
      "outputs": [
        {
          "output_type": "stream",
          "name": "stdout",
          "text": [
            "Prediction for a 20 year old female in class 1: [1]. This means that this person is likely to survive.\n",
            "Prediction for a 20 year old female in class 3: [1]. This means that this person is also likely to survive\n"
          ]
        }
      ]
    },
    {
      "cell_type": "markdown",
      "metadata": {
        "id": "jY5oeaZs7821"
      },
      "source": [
        "## Exercise 6\n",
        "\n",
        "You want to build a $k$-nearest neighbors model to predict where a Titanic passenger embarked, using their age, sex, and class.\n",
        "\n",
        "- What value of $k$ optimizes overall accuracy?\n",
        "- What value of $k$ optimizes the F1 score for Southampton?\n",
        "- Does the same value of $k$ optimize accuracy and the F1 score?"
      ]
    },
    {
      "cell_type": "code",
      "execution_count": null,
      "metadata": {
        "id": "MJIKrITJ7822",
        "colab": {
          "base_uri": "https://localhost:8080/",
          "height": 283
        },
        "outputId": "eead25ee-5a57-472c-8dc2-2f101ab528f9"
      },
      "outputs": [
        {
          "output_type": "execute_result",
          "data": {
            "text/plain": [
              "<matplotlib.axes._subplots.AxesSubplot at 0x7fd96654ed50>"
            ]
          },
          "metadata": {},
          "execution_count": 401
        },
        {
          "output_type": "display_data",
          "data": {
            "text/plain": [
              "<Figure size 432x288 with 1 Axes>"
            ],
            "image/png": "[encoded data removed]"
          },
          "metadata": {
            "needs_background": "light"
          }
        }
      ],
      "source": [
        "# TYPE YOUR CODE HERE.\n",
        "from sklearn.metrics import f1_score\n",
        "\n",
        "def fillSeries(k):\n",
        "  vec = DictVectorizer(sparse=False)\n",
        "  vec.fit(X_train_dict)\n",
        "  X_train = vec.transform(X_train_dict)\n",
        "\n",
        "  scaler = StandardScaler()\n",
        "  scaler.fit(X_train)\n",
        "  X_train_sc = scaler.transform(X_train)\n",
        "  model = KNeighborsClassifier(n_neighbors=k)\n",
        "  model.fit(X_train_sc, y_train)\n",
        "\n",
        "  y_train_pred = model.predict(X_train_sc)\n",
        "\n",
        "  accuracy = accuracy_score(y_train, y_train_pred)\n",
        "  precision = precision_score(y_train, y_train_pred)\n",
        "  recall = recall_score(y_train, y_train_pred)\n",
        "  f1 = f1_score(y_train, y_train_pred)\n",
        "\n",
        "  # display(\"acurracy is %s\" % accuracy)\n",
        "  # display(\"precision is %s\" % precision)\n",
        "  # display(\"recall is %s\" % recall)\n",
        "  # display(\"f1 is %s\" % f1)\n",
        "\n",
        "  return (accuracy, precision, recall, f1)\n",
        "\n",
        "df_t = pd.read_csv(\"../data/titanic.csv\")\n",
        "f = [\"age\", \"sex\", \"pclass\"]\n",
        "df_t.dropna(subset = f, inplace=True)\n",
        "\n",
        "X_train_dict = df_t[f].to_dict(orient=\"records\")\n",
        "y_train = df_t[\"survived\"]\n",
        "\n",
        "ks = pd.Series(range(1, 101))\n",
        "ks.index = range(1, 101)\n",
        "\n",
        "x_graph = pd.DataFrame()\n",
        "graph = ks.apply(fillSeries)\n",
        "\n",
        "q = [i[0] for i in graph]\n",
        "x_graph[\"accuracy\"] = q\n",
        "x_graph[\"accuracy\"].plot.line(color = \"Red\")\n",
        "\n",
        "w = [i[1] for i in graph]\n",
        "x_graph[\"precision\"] = w\n",
        "x_graph[\"precision\"].plot.line(color = \"Blue\")\n",
        "\n",
        "e = [i[2] for i in graph]\n",
        "x_graph[\"recall\"] = e\n",
        "x_graph[\"recall\"].plot.line(color = \"Green\")\n",
        "\n",
        "r = [i[3] for i in graph]\n",
        "x_graph[\"f1\"] = r\n",
        "x_graph[\"f1\"].plot.line(color = \"Purple\")"
      ]
    },
    {
      "cell_type": "markdown",
      "metadata": {
        "id": "7M4kHG4_7822"
      },
      "source": [
        "**Written Answers**:\n",
        "I was unable to determine the varying levels of accuracy, precision, recall and f1 for the \"embarked\" class because I did not have time to debug my program. My code works with a class that has binary values, such as \"survived\" which has either holds a 0 or 1. That being said, I did compute the accuracy, precision, recall and f1 for \"survived\" for K=1 to 100. From the graph we notice that that lower values of K are typically favorable because they yield higher measures. Intuitively, I would think that higher values of K would be more favorable but this is what my program illustrates. The optimal K then appears to be between 1-5 because this is where the graph is highest for each measured value."
      ]
    },
    {
      "cell_type": "markdown",
      "metadata": {
        "id": "A2MrmBp07822"
      },
      "source": [
        "**When you have filled out all the questions, submit via [Tulane Canvas](https://tulane.instructure.com/)**"
      ]
    }
  ],
  "metadata": {
    "kernelspec": {
      "display_name": "Python 3",
      "language": "python",
      "name": "python3"
    },
    "language_info": {
      "codemirror_mode": {
        "name": "ipython",
        "version": 3
      },
      "file_extension": ".py",
      "mimetype": "text/x-python",
      "name": "python",
      "nbconvert_exporter": "python",
      "pygments_lexer": "ipython3",
      "version": "3.9.12"
    },
    "toc": {
      "base_numbering": 1,
      "nav_menu": {},
      "number_sections": false,
      "sideBar": true,
      "skip_h1_title": true,
      "title_cell": "Table of Contents",
      "title_sidebar": "Contents",
      "toc_cell": true,
      "toc_position": {},
      "toc_section_display": true,
      "toc_window_display": false
    },
    "colab": {
      "provenance": []
    }
  },
  "nbformat": 4,
  "nbformat_minor": 0
}